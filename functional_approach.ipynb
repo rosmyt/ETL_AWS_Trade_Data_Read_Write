{
 "cells": [
  {
   "cell_type": "code",
   "execution_count": 1,
   "id": "6e5eea79-b887-41d2-b15e-5b318caa339e",
   "metadata": {},
   "outputs": [],
   "source": [
    "import pandas as pd\n",
    "from io import StringIO, BytesIO\n",
    "import boto3\n",
    "from datetime import datetime, timedelta"
   ]
  },
  {
   "cell_type": "code",
   "execution_count": 2,
   "id": "2a102fe5-e09f-4046-a58f-0db358295ba7",
   "metadata": {},
   "outputs": [],
   "source": [
    "import warnings\n",
    "warnings.simplefilter(action='ignore', category=FutureWarning)"
   ]
  },
  {
   "cell_type": "code",
   "execution_count": null,
   "id": "ca791d20-4965-499e-a095-1bece1da3e2d",
   "metadata": {},
   "outputs": [],
   "source": [
    "# Adapter Layer\n",
    "\n",
    "def read_csv_to_df(bucket, key, decoding='utf-8', sep=','):\n",
    "    csv_obj = bucket.Object(key=key).get().get('Body').read().decode(decoding)\n",
    "    data = StringIO(csv_obj)\n",
    "    df = pd.read_csv(data, delimiter=sep)\n",
    "    return df\n",
    "\n",
    "def write_df_to_s3(bucket, df, key):\n",
    "    out_buffer = BytesIO()\n",
    "    df.to_parquet(out_buffer, index=False)\n",
    "    bucket.put_object(Body=out_buffer.getvalue(), Key=key)\n",
    "    return True\n",
    "\n",
    "def return_objects(bucket, arg_date):\n",
    "    min_date = datetime.strptime(arg_date, src_format).date() - timedelta(days=1)\n",
    "    objects = [obj.key for obj in bucket.objects.all() if datetime.strptime(obj.key.split('/')[0], src_format).date() >= min_date]\n",
    "    return objects"
   ]
  },
  {
   "cell_type": "code",
   "execution_count": null,
   "id": "49d36d05-dc6e-4671-bf03-7f521ebc0051",
   "metadata": {},
   "outputs": [],
   "source": [
    "# Application Layer\n",
    "\n",
    "def extract(bucket, objects):\n",
    "    df = pd.concat([read_csv_to_df(bucket, obj) for obj in objects], ignore_index=True)\n",
    "    return df\n",
    "\n",
    "def transform_report1(df, columns, arg_date):\n",
    "    df = df.loc[:, columns]\n",
    "    df.dropna(inplace=True)\n",
    "    # Get opening perice per ISIN and day\n",
    "    df['opening_price_eur'] = df.sort_values(by=['Time']).groupby(['ISIN','Date'])['StartPrice'].transform('first')    \n",
    "    # Get closing_price_eur per ISIN and day\n",
    "    df['closing_price_eur'] = df.sort_values(by=['Time']).groupby(['ISIN','Date'])['EndPrice'].transform('last')    \n",
    "    # Aggregations\n",
    "    df = df.groupby(['ISIN','Date'], as_index=False).agg(opening_price_eur=('opening_price_eur', min), closing_price_eur=('closing_price_eur', min),\n",
    "                                                minimum_price_eur=('MinPrice', min), maximum_price_eur=('MaxPrice', max),\n",
    "                                                daily_traded_volume=('TradedVolume', sum))\n",
    "    # Get previous day price\n",
    "    df['previous_closing_price'] = df.sort_values(by=['Date']).groupby(['ISIN'])['closing_price_eur'].shift(1)\n",
    "    df = df[df_all.Date==arg_date]\n",
    "    # Change with respect to previous day closing price\n",
    "    df['change_prev_closing_%'] = df['closing_price_eur'] - df['previous_closing_price'] / df['previous_closing_price'] * 100\n",
    "    df.drop(columns=['previous_closing_price'], inplace=True)\n",
    "    df = df.round(decimals=2)\n",
    "    return df\n",
    "\n",
    "def load(bucket, df, trg_key, trg_format):\n",
    "    key = trg_key + datetime.today().strftime('%Y%m%d_%H%M%S') + trg_format\n",
    "    write_df_to_s3(bucket, df, key)\n",
    "    return True\n",
    "\n",
    "def etl_report1(src_bucket, objects, trg_bucket, columns, arg_date):\n",
    "    df = extract(src_bucket, objects)\n",
    "    transform_report1(df, columns, arg_date)\n",
    "    load(trg_bucket, df, trg_key, trg_format)\n",
    "    return True"
   ]
  },
  {
   "cell_type": "code",
   "execution_count": 3,
   "id": "801dd746-61ab-4ef5-b9d0-54ff28ecadf1",
   "metadata": {},
   "outputs": [],
   "source": [
    "arg_date = '2022-12-31'\n",
    "src_format = '%Y-%m-%d'\n",
    "src_bucket = 'xetra-1234'\n",
    "trg_bucket = 'udemy-xetra-1234'\n",
    "columns = ['ISIN', 'Date', 'Time', 'StartPrice', 'MaxPrice', 'MinPrice', 'EndPrice', 'TradedVolume']\n",
    "trg_key = 'xetra_daily_report_'\n",
    "trg_format = '.parquet'"
   ]
  },
  {
   "cell_type": "code",
   "execution_count": 8,
   "id": "fc4a27bb-3ccc-4b0e-8088-bd68db203de0",
   "metadata": {},
   "outputs": [],
   "source": [
    "s3 = boto3.resource('s3')\n",
    "bucket = s3.Bucket(src_bucket)\n"
   ]
  },
  {
   "cell_type": "markdown",
   "id": "772de97a-bb59-4ed0-b910-70ae8cc1a912",
   "metadata": {},
   "source": [
    "## Reporting Fields\n",
    " - Date\n",
    " - opening_price_eur\n",
    " - closing_price_eur\n",
    " - minimum_price_eur\n",
    " - maximum_price_eur\n",
    " - daily_traded_volume\n",
    " - change_prev_closing_%"
   ]
  },
  {
   "cell_type": "markdown",
   "id": "60231a78-0290-4d1b-b014-80dd3e30d9e0",
   "metadata": {},
   "source": [
    "## Write to S3"
   ]
  },
  {
   "cell_type": "code",
   "execution_count": 14,
   "id": "2233f477-65cd-44ac-ba14-3502805c6c65",
   "metadata": {},
   "outputs": [
    {
     "data": {
      "text/plain": [
       "s3.Object(bucket_name='udemy-xetra-1234', key='xetra_daily_report_20241129_093617.parquet')"
      ]
     },
     "execution_count": 14,
     "metadata": {},
     "output_type": "execute_result"
    }
   ],
   "source": [
    "bucket_target = s3.Bucket(trg_bucket)\n"
   ]
  },
  {
   "cell_type": "markdown",
   "id": "e0338e74-1060-483d-9a3e-7e9b7a171de1",
   "metadata": {},
   "source": [
    "## Read the uploaded file from S3"
   ]
  },
  {
   "cell_type": "code",
   "execution_count": 15,
   "id": "e8b2e8c4-48f2-483c-92ee-aa23c73c9978",
   "metadata": {},
   "outputs": [
    {
     "name": "stdout",
     "output_type": "stream",
     "text": [
      "xetra_daily_report_20241127_232202.parquet\n",
      "xetra_daily_report_20241128_175242.parquet\n",
      "xetra_daily_report_20241128_185532.parquet\n",
      "xetra_daily_report_20241129_093617.parquet\n"
     ]
    }
   ],
   "source": [
    "for obj in bucket_target.objects.all():\n",
    "    print(obj.key)"
   ]
  },
  {
   "cell_type": "code",
   "execution_count": 16,
   "id": "0117b22a-bd7b-40bd-8bf5-bdd18ea37fb5",
   "metadata": {},
   "outputs": [
    {
     "data": {
      "text/html": [
       "<div>\n",
       "<style scoped>\n",
       "    .dataframe tbody tr th:only-of-type {\n",
       "        vertical-align: middle;\n",
       "    }\n",
       "\n",
       "    .dataframe tbody tr th {\n",
       "        vertical-align: top;\n",
       "    }\n",
       "\n",
       "    .dataframe thead th {\n",
       "        text-align: right;\n",
       "    }\n",
       "</style>\n",
       "<table border=\"1\" class=\"dataframe\">\n",
       "  <thead>\n",
       "    <tr style=\"text-align: right;\">\n",
       "      <th></th>\n",
       "      <th>ISIN</th>\n",
       "      <th>Date</th>\n",
       "      <th>opening_price_eur</th>\n",
       "      <th>closing_price_eur</th>\n",
       "      <th>minimum_price_eur</th>\n",
       "      <th>maximum_price_eur</th>\n",
       "      <th>daily_traded_volume</th>\n",
       "      <th>change_prev_closing_%</th>\n",
       "    </tr>\n",
       "  </thead>\n",
       "  <tbody>\n",
       "    <tr>\n",
       "      <th>0</th>\n",
       "      <td>AT000000STR1</td>\n",
       "      <td>2022-12-31</td>\n",
       "      <td>36.60</td>\n",
       "      <td>36.70</td>\n",
       "      <td>35.75</td>\n",
       "      <td>36.70</td>\n",
       "      <td>1773</td>\n",
       "      <td>-63.30</td>\n",
       "    </tr>\n",
       "    <tr>\n",
       "      <th>1</th>\n",
       "      <td>AT00000FACC2</td>\n",
       "      <td>2022-12-31</td>\n",
       "      <td>8.05</td>\n",
       "      <td>8.57</td>\n",
       "      <td>7.87</td>\n",
       "      <td>8.57</td>\n",
       "      <td>10205</td>\n",
       "      <td>-91.43</td>\n",
       "    </tr>\n",
       "    <tr>\n",
       "      <th>2</th>\n",
       "      <td>AT0000606306</td>\n",
       "      <td>2022-12-31</td>\n",
       "      <td>14.51</td>\n",
       "      <td>15.00</td>\n",
       "      <td>13.65</td>\n",
       "      <td>15.28</td>\n",
       "      <td>107836</td>\n",
       "      <td>-85.00</td>\n",
       "    </tr>\n",
       "    <tr>\n",
       "      <th>3</th>\n",
       "      <td>AT0000609607</td>\n",
       "      <td>2022-12-31</td>\n",
       "      <td>11.74</td>\n",
       "      <td>12.06</td>\n",
       "      <td>11.70</td>\n",
       "      <td>12.06</td>\n",
       "      <td>1065</td>\n",
       "      <td>-87.94</td>\n",
       "    </tr>\n",
       "    <tr>\n",
       "      <th>4</th>\n",
       "      <td>AT0000644505</td>\n",
       "      <td>2022-12-31</td>\n",
       "      <td>98.20</td>\n",
       "      <td>99.20</td>\n",
       "      <td>96.10</td>\n",
       "      <td>99.20</td>\n",
       "      <td>531</td>\n",
       "      <td>-0.80</td>\n",
       "    </tr>\n",
       "  </tbody>\n",
       "</table>\n",
       "</div>"
      ],
      "text/plain": [
       "           ISIN        Date  opening_price_eur  closing_price_eur  \\\n",
       "0  AT000000STR1  2022-12-31              36.60              36.70   \n",
       "1  AT00000FACC2  2022-12-31               8.05               8.57   \n",
       "2  AT0000606306  2022-12-31              14.51              15.00   \n",
       "3  AT0000609607  2022-12-31              11.74              12.06   \n",
       "4  AT0000644505  2022-12-31              98.20              99.20   \n",
       "\n",
       "   minimum_price_eur  maximum_price_eur  daily_traded_volume  \\\n",
       "0              35.75              36.70                 1773   \n",
       "1               7.87               8.57                10205   \n",
       "2              13.65              15.28               107836   \n",
       "3              11.70              12.06                 1065   \n",
       "4              96.10              99.20                  531   \n",
       "\n",
       "   change_prev_closing_%  \n",
       "0                 -63.30  \n",
       "1                 -91.43  \n",
       "2                 -85.00  \n",
       "3                 -87.94  \n",
       "4                  -0.80  "
      ]
     },
     "execution_count": 16,
     "metadata": {},
     "output_type": "execute_result"
    }
   ],
   "source": [
    "parque_obj = bucket_target.Object(key='xetra_daily_report_20241128_175242.parquet').get().get('Body').read()\n",
    "data = BytesIO(parque_obj)\n",
    "df_report = pd.read_parquet(data)\n",
    "df_report.head()"
   ]
  },
  {
   "cell_type": "code",
   "execution_count": null,
   "id": "f3474453-760d-4167-923d-05be2c2a5e7b",
   "metadata": {},
   "outputs": [],
   "source": []
  }
 ],
 "metadata": {
  "kernelspec": {
   "display_name": "Python 3 (ipykernel)",
   "language": "python",
   "name": "python3"
  },
  "language_info": {
   "codemirror_mode": {
    "name": "ipython",
    "version": 3
   },
   "file_extension": ".py",
   "mimetype": "text/x-python",
   "name": "python",
   "nbconvert_exporter": "python",
   "pygments_lexer": "ipython3",
   "version": "3.12.1"
  }
 },
 "nbformat": 4,
 "nbformat_minor": 5
}
