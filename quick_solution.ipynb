{
 "cells": [
  {
   "cell_type": "code",
   "execution_count": 1,
   "id": "8be838ff-4027-4fe7-9543-eb9f516d6328",
   "metadata": {},
   "outputs": [],
   "source": [
    "import boto3\n",
    "import pandas as pd\n",
    "from io import StringIO, BytesIO\n",
    "from datetime import datetime, timedelta"
   ]
  },
  {
   "cell_type": "code",
   "execution_count": 2,
   "id": "68b197ff-0077-4cb7-a90c-14276b2ef366",
   "metadata": {},
   "outputs": [],
   "source": [
    "import warnings\n",
    "warnings.simplefilter(action='ignore', category=FutureWarning)"
   ]
  },
  {
   "cell_type": "code",
   "execution_count": 3,
   "id": "5ccb6ff5-d22d-438c-919b-51ffb0262a79",
   "metadata": {},
   "outputs": [],
   "source": [
    "arg_date = '2022-12-31'\n",
    "src_format = '%Y-%m-%d'\n",
    "src_bucket = 'xetra-1234'\n",
    "trg_bucket = 'udemy-xetra-1234'\n",
    "columns = ['ISIN', 'Date', 'Time', 'StartPrice', 'MaxPrice', 'MinPrice', 'EndPrice', 'TradedVolume']\n",
    "key = 'xetra_daily_report_' + datetime.today().strftime('%Y%m%d_%H%M%S') + '.parquet'"
   ]
  },
  {
   "cell_type": "code",
   "execution_count": 4,
   "id": "02697ed8-df77-4465-ac7e-e4fe74a59b32",
   "metadata": {},
   "outputs": [],
   "source": [
    "arg_date_dt = datetime.strptime(arg_date, src_format).date() - timedelta(days=1)"
   ]
  },
  {
   "cell_type": "code",
   "execution_count": 5,
   "id": "2388b926-f004-486f-90e4-4d99eac2fdd7",
   "metadata": {},
   "outputs": [],
   "source": [
    "s3 = boto3.resource('s3')\n",
    "bucket = s3.Bucket(src_bucket)\n",
    "objects = [obj for obj in bucket.objects.all() if datetime.strptime(obj.key.split('/')[0], src_format).date() >= arg_date_dt ]"
   ]
  },
  {
   "cell_type": "code",
   "execution_count": 6,
   "id": "3473b7ca-28ea-4e2d-9290-e6a2f28c5566",
   "metadata": {},
   "outputs": [],
   "source": [
    "def csv_to_df(filename):\n",
    "    csv_obj = bucket.Object(key=filename).get().get('Body').read().decode('utf-8')\n",
    "    data = StringIO(csv_obj)\n",
    "    df = pd.read_csv(data, delimiter=',')\n",
    "    return df\n",
    "df_all = pd.concat([csv_to_df(obj.key) for obj in objects], ignore_index=True)"
   ]
  },
  {
   "cell_type": "code",
   "execution_count": 7,
   "id": "197fa76f-c582-4d4c-904b-679e56145df9",
   "metadata": {},
   "outputs": [],
   "source": [
    "df_all = df_all.loc[:, columns]\n",
    "df_all.dropna(inplace=True)"
   ]
  },
  {
   "cell_type": "markdown",
   "id": "4495a72a-2c16-4b23-80da-a4be0c7dba3b",
   "metadata": {},
   "source": [
    "## Get opening perice per ISIN and day"
   ]
  },
  {
   "cell_type": "code",
   "execution_count": 8,
   "id": "591ca20c-f271-407a-9540-b64afbcb53b9",
   "metadata": {},
   "outputs": [],
   "source": [
    "df_all['opening_price'] = df_all.sort_values(by=['Time']).groupby(['ISIN','Date'])['StartPrice'].transform('first')"
   ]
  },
  {
   "cell_type": "markdown",
   "id": "018a7426-be11-414b-b0ed-ebe1b216b857",
   "metadata": {},
   "source": [
    "## Get closing perice per ISIN and day"
   ]
  },
  {
   "cell_type": "code",
   "execution_count": 9,
   "id": "3a063ed5-a606-436c-b0c3-ddafa23951b8",
   "metadata": {},
   "outputs": [],
   "source": [
    "df_all['closing_price'] = df_all.sort_values(by=['Time']).groupby(['ISIN','Date'])['StartPrice'].transform('last')"
   ]
  },
  {
   "cell_type": "markdown",
   "id": "fac5a936-e7cb-4fa9-bd4d-d15508f544ff",
   "metadata": {},
   "source": [
    "## Aggregations"
   ]
  },
  {
   "cell_type": "code",
   "execution_count": 10,
   "id": "931f1b70-9390-47c7-a318-f34959e11215",
   "metadata": {},
   "outputs": [],
   "source": [
    "df_all = df_all.groupby(['ISIN','Date'], as_index=False).agg(opening_price_eur=('opening_price', 'min'), closing_price_eur=('closing_price', 'min'), \n",
    "                                             minimum_price_eur=('MinPrice', 'min'), maximum_price_eur=('MaxPrice', 'max'),\n",
    "                                            daily_raded_volume=('TradedVolume', 'sum'))"
   ]
  },
  {
   "cell_type": "markdown",
   "id": "3b498759-6947-4e9d-924d-ed9129d02513",
   "metadata": {},
   "source": [
    "## Percent Change Prev Closing"
   ]
  },
  {
   "cell_type": "code",
   "execution_count": 11,
   "id": "b7e648c4-93ed-4f58-b0c6-7eb1864efe50",
   "metadata": {},
   "outputs": [],
   "source": [
    "df_all['prev_closing_price'] = df_all.sort_values(by=['Date']).groupby(['ISIN'])['closing_price_eur'].shift(1)"
   ]
  },
  {
   "cell_type": "code",
   "execution_count": 12,
   "id": "f501f1b3-7bc6-4ba5-98b3-2e8dc867af6d",
   "metadata": {},
   "outputs": [],
   "source": [
    "df_all = df_all[df_all.Date == arg_date]"
   ]
  },
  {
   "cell_type": "code",
   "execution_count": 13,
   "id": "f9e6d80f-5c2d-46b9-80d1-769c1d35b8f5",
   "metadata": {},
   "outputs": [],
   "source": [
    "df_all['change_prev_closing_%'] = df_all['closing_price_eur'] - df_all['prev_closing_price'] / df_all['prev_closing_price'] * 100"
   ]
  },
  {
   "cell_type": "code",
   "execution_count": 14,
   "id": "619335ab-205a-4089-aef2-c7b87898f3d9",
   "metadata": {},
   "outputs": [],
   "source": [
    "df_all.drop(columns=['prev_closing_price'], inplace=True)"
   ]
  },
  {
   "cell_type": "code",
   "execution_count": 15,
   "id": "efa060ea-723c-42e0-a3a7-19de018428e5",
   "metadata": {},
   "outputs": [
    {
     "data": {
      "text/html": [
       "<div>\n",
       "<style scoped>\n",
       "    .dataframe tbody tr th:only-of-type {\n",
       "        vertical-align: middle;\n",
       "    }\n",
       "\n",
       "    .dataframe tbody tr th {\n",
       "        vertical-align: top;\n",
       "    }\n",
       "\n",
       "    .dataframe thead th {\n",
       "        text-align: right;\n",
       "    }\n",
       "</style>\n",
       "<table border=\"1\" class=\"dataframe\">\n",
       "  <thead>\n",
       "    <tr style=\"text-align: right;\">\n",
       "      <th></th>\n",
       "      <th>ISIN</th>\n",
       "      <th>Date</th>\n",
       "      <th>opening_price_eur</th>\n",
       "      <th>closing_price_eur</th>\n",
       "      <th>minimum_price_eur</th>\n",
       "      <th>maximum_price_eur</th>\n",
       "      <th>daily_raded_volume</th>\n",
       "      <th>change_prev_closing_%</th>\n",
       "    </tr>\n",
       "  </thead>\n",
       "  <tbody>\n",
       "    <tr>\n",
       "      <th>1</th>\n",
       "      <td>AT000000STR1</td>\n",
       "      <td>2022-12-31</td>\n",
       "      <td>36.60</td>\n",
       "      <td>36.70</td>\n",
       "      <td>35.75</td>\n",
       "      <td>36.70</td>\n",
       "      <td>1773</td>\n",
       "      <td>-63.30</td>\n",
       "    </tr>\n",
       "    <tr>\n",
       "      <th>3</th>\n",
       "      <td>AT00000FACC2</td>\n",
       "      <td>2022-12-31</td>\n",
       "      <td>8.05</td>\n",
       "      <td>8.57</td>\n",
       "      <td>7.87</td>\n",
       "      <td>8.57</td>\n",
       "      <td>10205</td>\n",
       "      <td>-91.43</td>\n",
       "    </tr>\n",
       "    <tr>\n",
       "      <th>5</th>\n",
       "      <td>AT0000606306</td>\n",
       "      <td>2022-12-31</td>\n",
       "      <td>14.51</td>\n",
       "      <td>15.00</td>\n",
       "      <td>13.65</td>\n",
       "      <td>15.28</td>\n",
       "      <td>107836</td>\n",
       "      <td>-85.00</td>\n",
       "    </tr>\n",
       "  </tbody>\n",
       "</table>\n",
       "</div>"
      ],
      "text/plain": [
       "           ISIN        Date  opening_price_eur  closing_price_eur  \\\n",
       "1  AT000000STR1  2022-12-31              36.60              36.70   \n",
       "3  AT00000FACC2  2022-12-31               8.05               8.57   \n",
       "5  AT0000606306  2022-12-31              14.51              15.00   \n",
       "\n",
       "   minimum_price_eur  maximum_price_eur daily_raded_volume  \\\n",
       "1              35.75              36.70               1773   \n",
       "3               7.87               8.57              10205   \n",
       "5              13.65              15.28             107836   \n",
       "\n",
       "   change_prev_closing_%  \n",
       "1                 -63.30  \n",
       "3                 -91.43  \n",
       "5                 -85.00  "
      ]
     },
     "execution_count": 15,
     "metadata": {},
     "output_type": "execute_result"
    }
   ],
   "source": [
    "df_all = df_all.round(decimals=2)\n",
    "df_all.head(3)"
   ]
  },
  {
   "cell_type": "markdown",
   "id": "8df83612-721c-4ee4-8bff-64add07676c0",
   "metadata": {},
   "source": [
    "## Write to S3"
   ]
  },
  {
   "cell_type": "code",
   "execution_count": 16,
   "id": "45fb72f3-6e0c-493b-9bc9-317a2b84c5f6",
   "metadata": {},
   "outputs": [
    {
     "data": {
      "text/plain": [
       "s3.Object(bucket_name='udemy-xetra-1234', key='xetra_daily_report_20241129_093737.parquet')"
      ]
     },
     "execution_count": 16,
     "metadata": {},
     "output_type": "execute_result"
    }
   ],
   "source": [
    "out_buffer = BytesIO()\n",
    "df_all.to_parquet(out_buffer, index=False)\n",
    "bucket_target = s3.Bucket(trg_bucket)\n",
    "bucket_target.put_object(Body=out_buffer.getvalue(), Key=key)"
   ]
  },
  {
   "cell_type": "markdown",
   "id": "dd0675bd-1d19-474a-8d3f-3a1f989f6a01",
   "metadata": {},
   "source": [
    "## Reading the uploaded file"
   ]
  },
  {
   "cell_type": "code",
   "execution_count": 17,
   "id": "05e99e18-c89e-4184-a429-4602c4dc4e26",
   "metadata": {},
   "outputs": [
    {
     "name": "stdout",
     "output_type": "stream",
     "text": [
      "xetra_daily_report_20241127_232202.parquet\n",
      "xetra_daily_report_20241128_175242.parquet\n",
      "xetra_daily_report_20241128_185532.parquet\n",
      "xetra_daily_report_20241129_093617.parquet\n",
      "xetra_daily_report_20241129_093737.parquet\n"
     ]
    }
   ],
   "source": [
    "for obj in bucket_target.objects.all():\n",
    "    print(obj.key)"
   ]
  },
  {
   "cell_type": "code",
   "execution_count": 18,
   "id": "447933ce-8f25-4566-bff6-863c8b5a09c2",
   "metadata": {},
   "outputs": [],
   "source": [
    "prq_obj = bucket_target.Object(key='xetra_daily_report_20241127_232202.parquet').get().get('Body').read()\n",
    "data = BytesIO(prq_obj)\n",
    "df_report = pd.read_parquet(data)"
   ]
  },
  {
   "cell_type": "code",
   "execution_count": 19,
   "id": "8c0745a3-c109-4747-aca5-b29cd35b64f0",
   "metadata": {},
   "outputs": [
    {
     "data": {
      "text/html": [
       "<div>\n",
       "<style scoped>\n",
       "    .dataframe tbody tr th:only-of-type {\n",
       "        vertical-align: middle;\n",
       "    }\n",
       "\n",
       "    .dataframe tbody tr th {\n",
       "        vertical-align: top;\n",
       "    }\n",
       "\n",
       "    .dataframe thead th {\n",
       "        text-align: right;\n",
       "    }\n",
       "</style>\n",
       "<table border=\"1\" class=\"dataframe\">\n",
       "  <thead>\n",
       "    <tr style=\"text-align: right;\">\n",
       "      <th></th>\n",
       "      <th>ISIN</th>\n",
       "      <th>Date</th>\n",
       "      <th>opening_price_eur</th>\n",
       "      <th>closing_price_eur</th>\n",
       "      <th>minimum_price_eur</th>\n",
       "      <th>maximum_price_eur</th>\n",
       "      <th>daily_raded_volume</th>\n",
       "      <th>change_prev_closing_%</th>\n",
       "    </tr>\n",
       "  </thead>\n",
       "  <tbody>\n",
       "    <tr>\n",
       "      <th>0</th>\n",
       "      <td>AT000000STR1</td>\n",
       "      <td>2022-12-31</td>\n",
       "      <td>36.60</td>\n",
       "      <td>36.70</td>\n",
       "      <td>35.75</td>\n",
       "      <td>36.70</td>\n",
       "      <td>1773</td>\n",
       "      <td>-63.30</td>\n",
       "    </tr>\n",
       "    <tr>\n",
       "      <th>1</th>\n",
       "      <td>AT00000FACC2</td>\n",
       "      <td>2022-12-31</td>\n",
       "      <td>8.05</td>\n",
       "      <td>8.57</td>\n",
       "      <td>7.87</td>\n",
       "      <td>8.57</td>\n",
       "      <td>10205</td>\n",
       "      <td>-91.43</td>\n",
       "    </tr>\n",
       "    <tr>\n",
       "      <th>2</th>\n",
       "      <td>AT0000606306</td>\n",
       "      <td>2022-12-31</td>\n",
       "      <td>14.51</td>\n",
       "      <td>15.00</td>\n",
       "      <td>13.65</td>\n",
       "      <td>15.28</td>\n",
       "      <td>107836</td>\n",
       "      <td>-85.00</td>\n",
       "    </tr>\n",
       "    <tr>\n",
       "      <th>3</th>\n",
       "      <td>AT0000609607</td>\n",
       "      <td>2022-12-31</td>\n",
       "      <td>11.74</td>\n",
       "      <td>12.06</td>\n",
       "      <td>11.70</td>\n",
       "      <td>12.06</td>\n",
       "      <td>1065</td>\n",
       "      <td>-87.94</td>\n",
       "    </tr>\n",
       "    <tr>\n",
       "      <th>4</th>\n",
       "      <td>AT0000644505</td>\n",
       "      <td>2022-12-31</td>\n",
       "      <td>98.20</td>\n",
       "      <td>99.20</td>\n",
       "      <td>96.10</td>\n",
       "      <td>99.20</td>\n",
       "      <td>531</td>\n",
       "      <td>-0.80</td>\n",
       "    </tr>\n",
       "  </tbody>\n",
       "</table>\n",
       "</div>"
      ],
      "text/plain": [
       "           ISIN        Date  opening_price_eur  closing_price_eur  \\\n",
       "0  AT000000STR1  2022-12-31              36.60              36.70   \n",
       "1  AT00000FACC2  2022-12-31               8.05               8.57   \n",
       "2  AT0000606306  2022-12-31              14.51              15.00   \n",
       "3  AT0000609607  2022-12-31              11.74              12.06   \n",
       "4  AT0000644505  2022-12-31              98.20              99.20   \n",
       "\n",
       "   minimum_price_eur  maximum_price_eur  daily_raded_volume  \\\n",
       "0              35.75              36.70                1773   \n",
       "1               7.87               8.57               10205   \n",
       "2              13.65              15.28              107836   \n",
       "3              11.70              12.06                1065   \n",
       "4              96.10              99.20                 531   \n",
       "\n",
       "   change_prev_closing_%  \n",
       "0                 -63.30  \n",
       "1                 -91.43  \n",
       "2                 -85.00  \n",
       "3                 -87.94  \n",
       "4                  -0.80  "
      ]
     },
     "execution_count": 19,
     "metadata": {},
     "output_type": "execute_result"
    }
   ],
   "source": [
    "df_report.head(5)"
   ]
  },
  {
   "cell_type": "code",
   "execution_count": null,
   "id": "0a74925b-85e1-4665-8fb4-9f0198418df9",
   "metadata": {},
   "outputs": [],
   "source": []
  }
 ],
 "metadata": {
  "kernelspec": {
   "display_name": "Python 3 (ipykernel)",
   "language": "python",
   "name": "python3"
  },
  "language_info": {
   "codemirror_mode": {
    "name": "ipython",
    "version": 3
   },
   "file_extension": ".py",
   "mimetype": "text/x-python",
   "name": "python",
   "nbconvert_exporter": "python",
   "pygments_lexer": "ipython3",
   "version": "3.12.1"
  }
 },
 "nbformat": 4,
 "nbformat_minor": 5
}
